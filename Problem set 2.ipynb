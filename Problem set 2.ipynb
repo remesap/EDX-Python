{
 "cells": [
  {
   "cell_type": "code",
   "execution_count": 9,
   "id": "bb95af7b",
   "metadata": {},
   "outputs": [
    {
     "name": "stdout",
     "output_type": "stream",
     "text": [
      "for month  1 unpaid balance is 41.02\n",
      "for month  2 unpaid balance is 40.06\n",
      "for month  3 unpaid balance is 39.13\n",
      "for month  4 unpaid balance is 38.22\n",
      "for month  5 unpaid balance is 37.33\n",
      "for month  6 unpaid balance is 36.46\n",
      "for month  7 unpaid balance is 35.61\n",
      "for month  8 unpaid balance is 34.78\n",
      "for month  9 unpaid balance is 33.97\n",
      "for month  10 unpaid balance is 33.18\n",
      "for month  11 unpaid balance is 32.41\n",
      "for month  12 unpaid balance is 31.65\n"
     ]
    }
   ],
   "source": [
    "#write a program to calculate the credit card balance after one year \n",
    "# if a person only pays the minimum monthly payment required by the credit card company each month.\n",
    "\n",
    "balance = 42\n",
    "annualInterestRate = 0.2\n",
    "monthlyPaymentRate = 0.04\n",
    "\n",
    "def monthly_cc_balance(b0, annual_int_rate, min_payment):\n",
    "    b1 = b0 -  b0*min_payment + annual_int_rate/12*b0\n",
    "    return round(b1, 2)\n",
    "\n",
    "for i in range(0,12):\n",
    "    balance = monthly_cc_balance(balance, annualInterestRate, monthlyPaymentRate)\n",
    "    print(\"for month \", i+1, \"unpaid balance is\", balance)\n",
    "\n",
    "\n",
    "    \n"
   ]
  },
  {
   "cell_type": "code",
   "execution_count": 12,
   "id": "5a2d4351",
   "metadata": {},
   "outputs": [
    {
     "name": "stdout",
     "output_type": "stream",
     "text": [
      "55.48333333333334\n"
     ]
    }
   ],
   "source": [
    "#problem 2\n",
    "\n",
    "balance = 3329\n",
    "annualInterestRate = 0.2\n",
    "\n",
    "fixed_amount = balance*annualInterestRate/12\n",
    "print(fixed_amount)"
   ]
  },
  {
   "cell_type": "code",
   "execution_count": 15,
   "id": "5f1e0487",
   "metadata": {},
   "outputs": [
    {
     "name": "stdout",
     "output_type": "stream",
     "text": [
      "0\n",
      "2\n",
      "4\n",
      "6\n",
      "8\n"
     ]
    }
   ],
   "source": [
    "for i in range(0, 10, 2):\n",
    "    print(i)"
   ]
  }
 ],
 "metadata": {
  "kernelspec": {
   "display_name": "base",
   "language": "python",
   "name": "python3"
  },
  "language_info": {
   "codemirror_mode": {
    "name": "ipython",
    "version": 3
   },
   "file_extension": ".py",
   "mimetype": "text/x-python",
   "name": "python",
   "nbconvert_exporter": "python",
   "pygments_lexer": "ipython3",
   "version": "3.9.12 (main, Apr  4 2022, 05:22:27) [MSC v.1916 64 bit (AMD64)]"
  },
  "vscode": {
   "interpreter": {
    "hash": "0bf1e24dc3015bb8d5b5600d77d6ad158b433d796c3f59940ee7f996a0e0411c"
   }
  }
 },
 "nbformat": 4,
 "nbformat_minor": 5
}
