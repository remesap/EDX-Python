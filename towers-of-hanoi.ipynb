{
 "cells": [
  {
   "cell_type": "code",
   "execution_count": 44,
   "id": "cf010b26",
   "metadata": {},
   "outputs": [
    {
     "name": "stdout",
     "output_type": "stream",
     "text": [
      "1  -->  3\n",
      "1  -->  2\n",
      "3  -->  2\n",
      "1  -->  3\n",
      "2  -->  1\n",
      "2  -->  3\n",
      "1  -->  3\n",
      "1  -->  3\n",
      "1  -->  2\n",
      "3  -->  2\n",
      "1  -->  3\n",
      "2  -->  1\n",
      "2  -->  3\n",
      "1  -->  3\n",
      "None\n"
     ]
    }
   ],
   "source": [
    "def hanoi(n, start, end):\n",
    "    if n == 1:\n",
    "        pm(start, end) \n",
    "    else:\n",
    "        other = 6 -(start + end)\n",
    "        hanoi(n-1, start, other)\n",
    "        pm(start, end)\n",
    "        hanoi(n-1, other, end)\n",
    "    \n",
    "    \n",
    "def pm(start, end):\n",
    "    print(start, \" --> \", end)\n",
    "\n",
    "hanoi(3, 1, 3)\n"
   ]
  }
 ],
 "metadata": {
  "kernelspec": {
   "display_name": "base",
   "language": "python",
   "name": "python3"
  },
  "language_info": {
   "codemirror_mode": {
    "name": "ipython",
    "version": 3
   },
   "file_extension": ".py",
   "mimetype": "text/x-python",
   "name": "python",
   "nbconvert_exporter": "python",
   "pygments_lexer": "ipython3",
   "version": "3.9.12 (main, Apr  4 2022, 05:22:27) [MSC v.1916 64 bit (AMD64)]"
  },
  "vscode": {
   "interpreter": {
    "hash": "0bf1e24dc3015bb8d5b5600d77d6ad158b433d796c3f59940ee7f996a0e0411c"
   }
  }
 },
 "nbformat": 4,
 "nbformat_minor": 5
}
