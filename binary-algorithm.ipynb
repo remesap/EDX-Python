{
 "cells": [
  {
   "cell_type": "code",
   "execution_count": 5,
   "id": "d97bf9d0",
   "metadata": {},
   "outputs": [
    {
     "name": "stdout",
     "output_type": "stream",
     "text": [
      "1011\n"
     ]
    }
   ],
   "source": [
    "#program to covert a number from decimal basis to binary basis\n",
    "\n",
    "num = 11\n",
    "result = \"\"\n",
    "negFlag = False \n",
    "\n",
    "if num < 0:\n",
    "    negFlag = True\n",
    "    num = abs(num)\n",
    "\n",
    "\n",
    "while num > 0:\n",
    "    result = str(num % 2) + result #getting the next bit to the left\n",
    "    num = num // 2                 #shifting bits to the right\n",
    "\n",
    "if negFlag == True:\n",
    "    print(\"-\" + result)\n",
    "else:\n",
    "    print(result)"
   ]
  }
 ],
 "metadata": {
  "kernelspec": {
   "display_name": "base",
   "language": "python",
   "name": "python3"
  },
  "language_info": {
   "codemirror_mode": {
    "name": "ipython",
    "version": 3
   },
   "file_extension": ".py",
   "mimetype": "text/x-python",
   "name": "python",
   "nbconvert_exporter": "python",
   "pygments_lexer": "ipython3",
   "version": "3.9.12 (main, Apr  4 2022, 05:22:27) [MSC v.1916 64 bit (AMD64)]"
  },
  "vscode": {
   "interpreter": {
    "hash": "0bf1e24dc3015bb8d5b5600d77d6ad158b433d796c3f59940ee7f996a0e0411c"
   }
  }
 },
 "nbformat": 4,
 "nbformat_minor": 5
}
