{
 "cells": [
  {
   "cell_type": "code",
   "execution_count": 4,
   "id": "9a01488e",
   "metadata": {},
   "outputs": [
    {
     "data": {
      "text/plain": [
       "False"
      ]
     },
     "execution_count": 4,
     "metadata": {},
     "output_type": "execute_result"
    }
   ],
   "source": [
    "def isIn(char, aStr):\n",
    "    '''\n",
    "    char: a single character\n",
    "    aStr: an alphabetized string\n",
    "    \n",
    "    returns: True if char is in aStr; False otherwise\n",
    "    '''\n",
    "    # Your code here\n",
    "    m = len(aStr)//2\n",
    "    \n",
    "    if len(aStr) > 0 and aStr[m] == char:\n",
    "            return True\n",
    "    \n",
    "    def check_size(aStr):\n",
    "        if len(aStr) <= 1 and aStr[:] == char:\n",
    "            return True\n",
    "        elif len(aStr) <= 1 and aStr[:] != char:\n",
    "            return False\n",
    "        else:\n",
    "            return isIn(char, aStr)\n",
    "    \n",
    "    #bisection part\n",
    "    if len(aStr) > 0 and char < aStr[m]== True:\n",
    "        aStr = aStr[:m]\n",
    "        return check_size(aStr)\n",
    "\n",
    "    else:\n",
    "        aStr = aStr[m:]\n",
    "        return check_size(aStr)\n",
    "\n",
    "isIn('q', 'aadfglmmoopqqrstuwz')\n",
    "\n",
    "        "
   ]
  },
  {
   "cell_type": "code",
   "execution_count": 5,
   "id": "d20a0161",
   "metadata": {},
   "outputs": [],
   "source": [
    "#their answer\n",
    "def isIn(char, aStr):\n",
    "   '''\n",
    "   char: a single character\n",
    "   aStr: an alphabetized string\n",
    "   \n",
    "   returns: True if char is in aStr; False otherwise\n",
    "   '''\n",
    "   # Base case: If aStr is empty, we did not find the char.\n",
    "   if aStr == '':\n",
    "      return False\n",
    "\n",
    "   # Base case: if aStr is of length 1, just see if the chars are equal\n",
    "   if len(aStr) == 1:\n",
    "      return aStr == char\n",
    "\n",
    "   # Base case: See if the character in the middle of aStr equals the \n",
    "   #   test character \n",
    "   midIndex = len(aStr)//2\n",
    "   midChar = aStr[midIndex]\n",
    "   if char == midChar:\n",
    "      # We found the character!\n",
    "      return True\n",
    "   \n",
    "   # Recursive case: If the test character is smaller than the middle \n",
    "   #  character, recursively search on the first half of aStr\n",
    "   elif char < midChar:\n",
    "      return isIn(char, aStr[:midIndex])\n",
    "\n",
    "   # Otherwise the test character is larger than the middle character,\n",
    "   #  so recursively search on the last half of aStr\n",
    "   else:\n",
    "      return isIn(char, aStr[midIndex+1:])"
   ]
  }
 ],
 "metadata": {
  "kernelspec": {
   "display_name": "base",
   "language": "python",
   "name": "python3"
  },
  "language_info": {
   "codemirror_mode": {
    "name": "ipython",
    "version": 3
   },
   "file_extension": ".py",
   "mimetype": "text/x-python",
   "name": "python",
   "nbconvert_exporter": "python",
   "pygments_lexer": "ipython3",
   "version": "3.9.12 (main, Apr  4 2022, 05:22:27) [MSC v.1916 64 bit (AMD64)]"
  },
  "vscode": {
   "interpreter": {
    "hash": "0bf1e24dc3015bb8d5b5600d77d6ad158b433d796c3f59940ee7f996a0e0411c"
   }
  }
 },
 "nbformat": 4,
 "nbformat_minor": 5
}
