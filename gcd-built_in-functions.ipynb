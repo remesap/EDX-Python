{
 "cells": [
  {
   "cell_type": "code",
   "execution_count": 1,
   "id": "e4142e14",
   "metadata": {},
   "outputs": [
    {
     "name": "stdout",
     "output_type": "stream",
     "text": [
      "12\n",
      "[4, 3, 2, 1]\n"
     ]
    }
   ],
   "source": [
    "#first method\n",
    "def gcd1(a, b):\n",
    "    if a < b:\n",
    "        for n in range(a, 1, -1):\n",
    "            if a%n == 0 and b%n == 0:\n",
    "                return(n)\n",
    "    else:\n",
    "        for n in range(b, 1, -1):\n",
    "            if a%n == 0 and b%n == 0:\n",
    "                return(n)\n",
    "  \n",
    "\n",
    "#second method\n",
    "def gcd2(a,b):\n",
    "    if a < b:\n",
    "        n = a\n",
    "        while n > 1:\n",
    "            if a%n==0 and b%n==0:\n",
    "                return(n)\n",
    "                #break\n",
    "            n -= n\n",
    "    else:\n",
    "        n = b\n",
    "        while n > 1:\n",
    "            if a%n==0 and b%n==0:\n",
    "                return(n)\n",
    "                #break\n",
    "            n -= n\n",
    "        \n",
    "\n",
    "print(gcd1(36, 12))\n",
    "gcd2(36, 12) \n",
    "\n",
    "  #how to use a reverse range and create a list  \n",
    "l = [*range(4, 0, -1)]\n",
    "print(l)"
   ]
  },
  {
   "cell_type": "code",
   "execution_count": 4,
   "id": "25b6c7d2",
   "metadata": {},
   "outputs": [
    {
     "data": {
      "text/plain": [
       "3"
      ]
     },
     "execution_count": 4,
     "metadata": {},
     "output_type": "execute_result"
    }
   ],
   "source": [
    "#using built-in functions:\n",
    "\n",
    "def gcd3(a, b):\n",
    "    test_value = min(a, b)\n",
    "    return next(( n for n in range(test_value, 0, -1) if a%n==0 and b%n==0), None)\n",
    "\n",
    "gcd3(3, 9)\n",
    "    "
   ]
  },
  {
   "cell_type": "code",
   "execution_count": 6,
   "id": "f4b5c9b4",
   "metadata": {},
   "outputs": [
    {
     "name": "stdout",
     "output_type": "stream",
     "text": [
      "3\n",
      "3\n"
     ]
    }
   ],
   "source": [
    "#my code\n",
    "def gcdRecur1(a, b):\n",
    "    \n",
    "    if a == 0:\n",
    "        return b\n",
    "    \n",
    "    elif b == 0:\n",
    "        return a\n",
    "    \n",
    "    else:\n",
    "        if a > b:\n",
    "            return gcdRecur1(b, a%b)\n",
    "        else:\n",
    "            return gcdRecur1(a, b%a)\n",
    "\n",
    "#their code        \n",
    "def gcdRecur2(a, b):\n",
    "    if b == 0:\n",
    "        return a\n",
    "    \n",
    "    else:\n",
    "        return gcdRecur2(b, a % b) #it reverses the order if a < b\n",
    "        \n",
    "        \n",
    "        \n",
    "print(gcdRecur1(3, 9))\n",
    "print(gcdRecur2(3, 9))\n",
    "\n",
    "\n",
    "\n",
    "\n",
    "\n",
    "        "
   ]
  }
 ],
 "metadata": {
  "kernelspec": {
   "display_name": "base",
   "language": "python",
   "name": "python3"
  },
  "language_info": {
   "codemirror_mode": {
    "name": "ipython",
    "version": 3
   },
   "file_extension": ".py",
   "mimetype": "text/x-python",
   "name": "python",
   "nbconvert_exporter": "python",
   "pygments_lexer": "ipython3",
   "version": "3.9.12 (main, Apr  4 2022, 05:22:27) [MSC v.1916 64 bit (AMD64)]"
  },
  "vscode": {
   "interpreter": {
    "hash": "0bf1e24dc3015bb8d5b5600d77d6ad158b433d796c3f59940ee7f996a0e0411c"
   }
  }
 },
 "nbformat": 4,
 "nbformat_minor": 5
}
