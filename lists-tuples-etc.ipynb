{
 "cells": [
  {
   "cell_type": "code",
   "execution_count": 1,
   "id": "f557b3fc",
   "metadata": {},
   "outputs": [
    {
     "name": "stdout",
     "output_type": "stream",
     "text": [
      "(1, 2, 3, 4, 5, 6)\n"
     ]
    }
   ],
   "source": [
    "L = [2, 4, 5, 0, 3, 1.4]\n",
    "L1 = (1, 2, 3) \n",
    "L2 = (4, 5, 6)\n",
    "\n",
    "L3 = L1 + L2\n",
    "print(L3)"
   ]
  },
  {
   "cell_type": "code",
   "execution_count": 6,
   "id": "b93f498c",
   "metadata": {},
   "outputs": [
    {
     "name": "stdout",
     "output_type": "stream",
     "text": [
      "['a', 'b', 'c']\n",
      "abc\n",
      "None\n"
     ]
    }
   ],
   "source": [
    "str1 = \"abc\"\n",
    "s = list(\"abc\")\n",
    "s = list(str1)\n",
    "l1 = \"\".join(s)\n",
    "print(s)\n",
    "print(l1)\n",
    "print(L.sort())"
   ]
  },
  {
   "cell_type": "code",
   "execution_count": 7,
   "id": "50463b59",
   "metadata": {},
   "outputs": [
    {
     "name": "stdout",
     "output_type": "stream",
     "text": [
      "[4, 3, 6, 1, 4, 7, 0, 3, 4, 1, 100]\n"
     ]
    },
    {
     "data": {
      "text/plain": [
       "<function list.reverse()>"
      ]
     },
     "execution_count": 7,
     "metadata": {},
     "output_type": "execute_result"
    }
   ],
   "source": [
    "listA = [100, 1, 4, 3, 0, 7, 4, 1, 6, 3, 4]\n",
    "listA.reverse()\n",
    "print(listA)\n",
    "listA.reverse"
   ]
  },
  {
   "cell_type": "code",
   "execution_count": 9,
   "id": "daf04ba4",
   "metadata": {},
   "outputs": [
    {
     "name": "stdout",
     "output_type": "stream",
     "text": [
      "[0, 1, 1, 3, 3, 4, 4, 4, 6, 7, 100]\n"
     ]
    }
   ],
   "source": [
    "listA = [100, 1, 4, 3, 0, 7, 4, 1, 6, 3, 4]\n",
    "listA.sort()\n",
    "print(listA)\n"
   ]
  }
 ],
 "metadata": {
  "kernelspec": {
   "display_name": "base",
   "language": "python",
   "name": "python3"
  },
  "language_info": {
   "codemirror_mode": {
    "name": "ipython",
    "version": 3
   },
   "file_extension": ".py",
   "mimetype": "text/x-python",
   "name": "python",
   "nbconvert_exporter": "python",
   "pygments_lexer": "ipython3",
   "version": "3.9.12 (main, Apr  4 2022, 05:22:27) [MSC v.1916 64 bit (AMD64)]"
  },
  "vscode": {
   "interpreter": {
    "hash": "0bf1e24dc3015bb8d5b5600d77d6ad158b433d796c3f59940ee7f996a0e0411c"
   }
  }
 },
 "nbformat": 4,
 "nbformat_minor": 5
}
