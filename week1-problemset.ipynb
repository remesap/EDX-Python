{
 "cells": [
  {
   "cell_type": "code",
   "execution_count": 35,
   "id": "710afd01",
   "metadata": {},
   "outputs": [
    {
     "name": "stdout",
     "output_type": "stream",
     "text": [
      "Number of vowels: 5\n"
     ]
    }
   ],
   "source": [
    "#program that counts the number of vowels in a string\n",
    "s = 'azcbobobegghakl'\n",
    "\n",
    "counter = 0\n",
    "\n",
    "for i in s:\n",
    "    if i == \"a\" or i == \"e\" or i == \"i\" or i == \"o\" or i == \"u\":\n",
    "        counter += 1\n",
    "print(\"Number of vowels:\", counter)\n",
    "        \n"
   ]
  },
  {
   "cell_type": "code",
   "execution_count": 36,
   "id": "b29bedef",
   "metadata": {},
   "outputs": [
    {
     "name": "stdout",
     "output_type": "stream",
     "text": [
      "2\n"
     ]
    }
   ],
   "source": [
    "# Write a program that prints the number of times the string 'bob' occurs in s\n",
    "bob_counter = 0\n",
    "for i in range(0, len(s)-2):\n",
    "    if s[i] == \"b\" and s[i+1] == \"o\" and s[i+2] == \"b\" :\n",
    "        bob_counter += 1\n",
    "        \n",
    "print(bob_counter)\n",
    "\n",
    "\n",
    "    \n",
    "    "
   ]
  }
 ],
 "metadata": {
  "kernelspec": {
   "display_name": "Python 3 (ipykernel)",
   "language": "python",
   "name": "python3"
  },
  "language_info": {
   "codemirror_mode": {
    "name": "ipython",
    "version": 3
   },
   "file_extension": ".py",
   "mimetype": "text/x-python",
   "name": "python",
   "nbconvert_exporter": "python",
   "pygments_lexer": "ipython3",
   "version": "3.9.12"
  }
 },
 "nbformat": 4,
 "nbformat_minor": 5
}
