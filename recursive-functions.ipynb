{
 "cells": [
  {
   "cell_type": "markdown",
   "id": "320ff52a",
   "metadata": {},
   "source": [
    "recursion:"
   ]
  },
  {
   "cell_type": "code",
   "execution_count": 4,
   "id": "a2bc9fbb",
   "metadata": {},
   "outputs": [
    {
     "data": {
      "text/plain": [
       "9"
      ]
     },
     "execution_count": 4,
     "metadata": {},
     "output_type": "execute_result"
    }
   ],
   "source": [
    "#a functiont that multiply two numbers\n",
    "\n",
    "def multi(a, b):\n",
    "    if b == 1:\n",
    "        return a\n",
    "    else:\n",
    "        return a + multi(a, b-1)\n",
    "        \n",
    "multi(3, 3)\n"
   ]
  },
  {
   "cell_type": "code",
   "execution_count": 13,
   "id": "fcbdb5de",
   "metadata": {},
   "outputs": [
    {
     "data": {
      "text/plain": [
       "1048576"
      ]
     },
     "execution_count": 13,
     "metadata": {},
     "output_type": "execute_result"
    }
   ],
   "source": [
    "def iterPower(base, exp):\n",
    "    \n",
    "    if exp == 0 :\n",
    "       return 1\n",
    "       \n",
    "    else:\n",
    "       return base*iterPower(base, exp-1)\n",
    "\n",
    "iterPower(2, 20)"
   ]
  }
 ],
 "metadata": {
  "kernelspec": {
   "display_name": "Python 3 (ipykernel)",
   "language": "python",
   "name": "python3"
  },
  "language_info": {
   "codemirror_mode": {
    "name": "ipython",
    "version": 3
   },
   "file_extension": ".py",
   "mimetype": "text/x-python",
   "name": "python",
   "nbconvert_exporter": "python",
   "pygments_lexer": "ipython3",
   "version": "3.9.12"
  }
 },
 "nbformat": 4,
 "nbformat_minor": 5
}
