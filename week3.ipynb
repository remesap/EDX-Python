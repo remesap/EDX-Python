{
 "cells": [
  {
   "cell_type": "code",
   "execution_count": 1,
   "id": "ceea424b",
   "metadata": {},
   "outputs": [
    {
     "name": "stdout",
     "output_type": "stream",
     "text": [
      "('I', 'a', 'tuple')\n",
      "('I', 'a', 'tuple')\n"
     ]
    }
   ],
   "source": [
    "#Exercise: oddTuples\n",
    "a = ('I', 'am', 'a', 'test', 'tuple')\n",
    "\n",
    "def oddTuples(aTup):\n",
    "    '''\n",
    "    aTup: a tuple\n",
    "    \n",
    "    returns: tuple, every other element of aTup. \n",
    "    '''\n",
    "    # Your Code Here\n",
    "    newTuple = ()\n",
    "    \n",
    "    for i in range(0, len(aTup), 2):\n",
    "        newTuple = newTuple + (aTup[i],)\n",
    "        \n",
    "    return newTuple\n",
    "        \n",
    "print(oddTuples(a))\n",
    "\n",
    "def oddTuples2(aTup):\n",
    "    '''\n",
    "    Another way to solve the problem.\n",
    " \n",
    "    aTup: a tuple\n",
    "     \n",
    "    returns: tuple, every other element of aTup. \n",
    "    '''\n",
    "    # Here is another solution to the problem that uses tuple \n",
    "    #  slicing by 2 to achieve the same result\n",
    "    return aTup[::2]\n",
    "\n",
    "print(oddTuples2(a))"
   ]
  },
  {
   "cell_type": "markdown",
   "id": "b7c3d7d7",
   "metadata": {},
   "source": [
    "# Mutation, Aliasing and Cloning"
   ]
  },
  {
   "cell_type": "markdown",
   "id": "f9629854",
   "metadata": {},
   "source": [
    "## MUTATION."
   ]
  },
  {
   "cell_type": "code",
   "execution_count": 8,
   "id": "7074a7e5",
   "metadata": {},
   "outputs": [
    {
     "name": "stdout",
     "output_type": "stream",
     "text": [
      "[2, 2, 4, 5, 7, 12]\n",
      "[2, 4, 5, 2, 12, 7]\n",
      "[2, 2, 4, 5, 7, 12]\n"
     ]
    }
   ],
   "source": [
    "list1 = [2, 4, 5, 2, 12, 7]\n",
    "#The sorted() function returns a new sorted list leaving the original list unchanged.\n",
    "print(sorted(list1))\n",
    "print(list1)\n",
    "\n",
    "#The sort() method sorts the list in place, changing the original list.\n",
    "list1.sort()\n",
    "print(list1)\n"
   ]
  },
  {
   "cell_type": "markdown",
   "id": "0a4c1cd3",
   "metadata": {},
   "source": [
    "## ALIASING: \n",
    "list2 is an alias for list1, so when we change list2, list1 changes as well."
   ]
  },
  {
   "cell_type": "code",
   "execution_count": 10,
   "id": "cddb72f9",
   "metadata": {},
   "outputs": [
    {
     "name": "stdout",
     "output_type": "stream",
     "text": [
      "[100, 4, 5, 2, 12, 7]\n",
      "[100, 4, 5, 2, 12, 7]\n"
     ]
    }
   ],
   "source": [
    "list1 = [2, 4, 5, 2, 12, 7]\n",
    "list2 = list1\n",
    "list2[0] = 100\n",
    "print(list1)\n",
    "print(list2)"
   ]
  },
  {
   "cell_type": "markdown",
   "id": "029e2e5c",
   "metadata": {},
   "source": [
    "## CLONING: \n",
    "list2 is a clone of list1, so when we change list2, list1 does not change."
   ]
  },
  {
   "cell_type": "code",
   "execution_count": 12,
   "id": "7df68eb4",
   "metadata": {},
   "outputs": [
    {
     "name": "stdout",
     "output_type": "stream",
     "text": [
      "[2, 4, 5, 2, 12, 7]\n",
      "[100, 4, 5, 2, 12, 7]\n"
     ]
    }
   ],
   "source": [
    "list1 = [2, 4, 5, 2, 12, 7]\n",
    "list2 = list1[:]\n",
    "list2[0] = 100\n",
    "print(list1)\n",
    "print(list2)\n"
   ]
  },
  {
   "cell_type": "code",
   "execution_count": 13,
   "id": "9bd1d601",
   "metadata": {},
   "outputs": [
    {
     "data": {
      "text/plain": [
       "False"
      ]
     },
     "execution_count": 13,
     "metadata": {},
     "output_type": "execute_result"
    }
   ],
   "source": [
    "list1 is list2"
   ]
  },
  {
   "cell_type": "markdown",
   "id": "f7d97503",
   "metadata": {},
   "source": [
    "# Functions as objects\n",
    "* Functions are first class objects in Python\n",
    "* They can be assigned to variables\n",
    "* They can be passed as arguments to other functions\n",
    "* They can be returned from functions\n",
    "* They can be stored in data structures (e.g. lists, tuples, dictionaries)\n",
    "### Example:"
   ]
  },
  {
   "cell_type": "code",
   "execution_count": 20,
   "id": "4f4fed26",
   "metadata": {},
   "outputs": [
    {
     "name": "stdout",
     "output_type": "stream",
     "text": [
      "[1, 2, 3.34]\n",
      "[1, 2, 3]\n",
      "[1, 2, 6]\n",
      "[1, 2, 13]\n"
     ]
    }
   ],
   "source": [
    "def fib(x):\n",
    "    assert type(x) == int and x >= 0\n",
    "    if x == 0 or x == 1:\n",
    "        return 1\n",
    "    else:\n",
    "        return fib(x-1) + fib(x-2)\n",
    "#note: assert is a debugging aid that tests a condition. If the condition is true, nothing happens. If the condition is false, an AssertionError exception is raised.\n",
    "def factorial(x):\n",
    "    assert type(x) == int and x >= 0\n",
    "    if x == 0:\n",
    "        return 1\n",
    "    else:\n",
    "        return x * factorial(x-1)\n",
    "\n",
    "def applyToEach(L, f):\n",
    "    for i in range(len(L)):\n",
    "        L[i] = f(L[i])\n",
    "L = [1, -2, 3.34]\n",
    "\n",
    "applyToEach(L, abs)\n",
    "print(L)\n",
    "applyToEach(L, int)\n",
    "print(L)\n",
    "applyToEach(L, factorial)\n",
    "print(L)\n",
    "applyToEach(L, fib)\n",
    "print(L)\n",
    "\n"
   ]
  },
  {
   "cell_type": "code",
   "execution_count": 21,
   "id": "37425624",
   "metadata": {},
   "outputs": [
    {
     "name": "stdout",
     "output_type": "stream",
     "text": [
      "4\n",
      "4\n",
      "24\n",
      "5\n"
     ]
    }
   ],
   "source": [
    "def applyFuns(L, x):\n",
    "    for f in L: #assuming L is a list of functions\n",
    "        print(f(x))\n",
    "\n",
    "applyFuns([abs, int, factorial, fib], 4)"
   ]
  },
  {
   "cell_type": "markdown",
   "id": "459ca4ca",
   "metadata": {},
   "source": [
    "# Generalization of High Order Procedures\n",
    "* A high order procedure is a procedure that takes a procedure as an argument or returns a procedure as a result.\n",
    "* Python provides a number of built-in higher order functions, such as map, filter, reduce, and apply.\n",
    "* We can also define our own higher order functions."
   ]
  },
  {
   "cell_type": "code",
   "execution_count": 28,
   "id": "aa3c0644",
   "metadata": {},
   "outputs": [
    {
     "name": "stdout",
     "output_type": "stream",
     "text": [
      "1\n",
      "2\n",
      "3.34\n",
      "1\n",
      "28\n",
      "9\n",
      "[1, 28, 36]\n"
     ]
    }
   ],
   "source": [
    "#function map() applies a function to every member of an iterable and returns the result. It is equivalent to:\n",
    "def applyToEach(L, f):\n",
    "    for i in range(len(L)):\n",
    "        L[i] = f(L[i])\n",
    "    return L\n",
    "#???? I don't really see if map is actually equivalent to applyToEach\n",
    "\n",
    "\n",
    "map(abs, [1, -2, 3.34]) #produces an iterable, so we need to walk through it to see the results\n",
    "for i in map(abs, [1, -2, 3.34]):\n",
    "    print(i)"
   ]
  },
  {
   "cell_type": "markdown",
   "id": "870f71fd",
   "metadata": {},
   "source": [
    "* General form: an n-ary function and n collections of arguments"
   ]
  },
  {
   "cell_type": "code",
   "execution_count": 1,
   "id": "20b40e1f",
   "metadata": {},
   "outputs": [
    {
     "name": "stdout",
     "output_type": "stream",
     "text": [
      "1\n",
      "28\n",
      "9\n"
     ]
    }
   ],
   "source": [
    "L1 = [1, 28, 36]\n",
    "L2 = [2, 57, 9]\n",
    "\n",
    "map(min, L1, L2)\n",
    "\n",
    "for i in map(min, L1, L2):\n",
    "    print(i)\n",
    "\n",
    "#This a comment simulation a new line of code"
   ]
  }
 ],
 "metadata": {
  "kernelspec": {
   "display_name": "Python 3 (ipykernel)",
   "language": "python",
   "name": "python3"
  },
  "language_info": {
   "codemirror_mode": {
    "name": "ipython",
    "version": 3
   },
   "file_extension": ".py",
   "mimetype": "text/x-python",
   "name": "python",
   "nbconvert_exporter": "python",
   "pygments_lexer": "ipython3",
   "version": "3.9.12"
  },
  "vscode": {
   "interpreter": {
    "hash": "0bf1e24dc3015bb8d5b5600d77d6ad158b433d796c3f59940ee7f996a0e0411c"
   }
  }
 },
 "nbformat": 4,
 "nbformat_minor": 5
}
